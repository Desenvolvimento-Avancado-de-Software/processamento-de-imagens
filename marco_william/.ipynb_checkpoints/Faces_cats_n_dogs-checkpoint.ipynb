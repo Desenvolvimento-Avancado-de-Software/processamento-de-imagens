{
 "cells": [
  {
   "cell_type": "code",
   "execution_count": 1,
   "metadata": {
    "collapsed": true
   },
   "outputs": [],
   "source": [
    "import numpy as np\n",
    "import urllib\n",
    "import cv2"
   ]
  },
  {
   "cell_type": "code",
   "execution_count": 3,
   "metadata": {
    "collapsed": true
   },
   "outputs": [],
   "source": [
    "def detect_faces_on_frames(frame):\n",
    "    height, width, depth = frame.shape\n",
    "\n",
    "    # create grayscale version\n",
    "    grayscale = cv2.cvtColor(frame, cv2.COLOR_BGR2GRAY)\n",
    " \n",
    "    # equalize histogram\n",
    "    cv2.equalizeHist(grayscale, grayscale)\n",
    "\n",
    "    # detect objects\n",
    "    classifier = cv2.CascadeClassifier(\"haarcascade_frontalface_alt.xml\")\n",
    "    DOWNSCALE = 4\n",
    "    minisize = (frame.shape[1]/DOWNSCALE,frame.shape[0]/DOWNSCALE)\n",
    "    miniframe = cv2.resize(frame, minisize)\n",
    "    faces = classifier.detectMultiScale(miniframe)\n",
    "    if len(faces)>0:\n",
    "        # print 'face detected!'\n",
    "        for i in faces:\n",
    "            x, y, w, h = [ v*DOWNSCALE for v in i ]\n",
    "            cv2.rectangle(frame, (x,y), (x+w,y+h), (0,255,0))\n",
    "    return frame"
   ]
  },
  {
   "cell_type": "code",
   "execution_count": 2,
   "metadata": {
    "collapsed": true
   },
   "outputs": [],
   "source": [
    "def detect_faces_on_image(img):\n",
    "    # Create the haar cascade\n",
    "    face_cascade = cv2.CascadeClassifier(\"haarcascade_frontalface_alt.xml\")\n",
    "    # Read the image\n",
    "    gray = cv2.cvtColor(img, cv2.COLOR_BGR2GRAY)\n",
    "        \n",
    "    # Detect faces in the image\n",
    "    faces = face_cascade.detectMultiScale(gray, 1.3, 5)\n",
    "    \n",
    "    print \"Found {0} faces!\".format(len(faces))\n",
    "\n",
    "    # Draw a rectangle around the faces\n",
    "    for (x, y, w, h) in faces:\n",
    "        img = cv2.rectangle(img,(x,y),(x+w,y+h),(255,0,0),2)\n",
    "    \n",
    "    return img\n",
    "    \n"
   ]
  },
  {
   "cell_type": "code",
   "execution_count": 13,
   "metadata": {
    "collapsed": false
   },
   "outputs": [],
   "source": [
    "#Carregando imagem de arquivo local\n",
    "def local_img_load():\n",
    "    img = cv2.imread('family.png')\n",
    "    img = detect_faces_on_image(img)\n",
    "    cv2.imshow('image',img)\n",
    "    #quit if press ESC\n",
    "    if cv2.waitKey() & 0xff == 27:\n",
    "        quit()"
   ]
  },
  {
   "cell_type": "code",
   "execution_count": 3,
   "metadata": {
    "collapsed": false
   },
   "outputs": [],
   "source": [
    "def url_img_load():\n",
    "    req = urllib.urlopen('http://tutores.com.br/blog/wp-content/uploads/familia.png')\n",
    "    arr = np.asarray(bytearray(req.read()), dtype=np.uint8)\n",
    "    img = cv2.imdecode(arr,-1) # 'load it as it is'\n",
    "    img = detect_faces_on_image(img)\n",
    "    cv2.imshow('image',img)\n",
    "    if cv2.waitKey() & 0xff == 27: \n",
    "        quit()"
   ]
  },
  {
   "cell_type": "code",
   "execution_count": 4,
   "metadata": {
    "collapsed": false
   },
   "outputs": [],
   "source": [
    "def webcam_img_load():\n",
    "    cap = cv2.VideoCapture(0)\n",
    "    while(True):\n",
    "        # Capture frame-by-frame\n",
    "        ret, frame = cap.read()\n",
    "\n",
    "        frame = detect_faces_on_frames(frame)\n",
    "        # Our operations on the frame come here\n",
    "        img = frame.copy()\n",
    "\n",
    "        # Display the resulting frame\n",
    "        cv2.imshow('frame',frame)\n",
    "        \n",
    "        if cv2.waitKey(1) & 0xFF == 27:\n",
    "            break\n",
    "\n",
    "    # When everything done, release the capture\n",
    "    cap.release()\n",
    "    if cv2.waitKey() & 0xFF == 27:\n",
    "        quit()\n",
    "    \n",
    "    "
   ]
  },
  {
   "cell_type": "code",
   "execution_count": 14,
   "metadata": {
    "collapsed": false
   },
   "outputs": [
    {
     "name": "stdout",
     "output_type": "stream",
     "text": [
      "Found 3 faces!\n"
     ]
    }
   ],
   "source": [
    "local_img_load()"
   ]
  },
  {
   "cell_type": "code",
   "execution_count": 4,
   "metadata": {
    "collapsed": false
   },
   "outputs": [
    {
     "name": "stdout",
     "output_type": "stream",
     "text": [
      "Found 3 faces!\n"
     ]
    }
   ],
   "source": [
    "url_img_load()"
   ]
  },
  {
   "cell_type": "code",
   "execution_count": 5,
   "metadata": {
    "collapsed": false
   },
   "outputs": [],
   "source": [
    "webcam_img_load()"
   ]
  },
  {
   "cell_type": "code",
   "execution_count": null,
   "metadata": {
    "collapsed": true
   },
   "outputs": [],
   "source": []
  }
 ],
 "metadata": {
  "kernelspec": {
   "display_name": "Python 2",
   "language": "python",
   "name": "python2"
  },
  "language_info": {
   "codemirror_mode": {
    "name": "ipython",
    "version": 2
   },
   "file_extension": ".py",
   "mimetype": "text/x-python",
   "name": "python",
   "nbconvert_exporter": "python",
   "pygments_lexer": "ipython2",
   "version": "2.7.10"
  }
 },
 "nbformat": 4,
 "nbformat_minor": 1
}
