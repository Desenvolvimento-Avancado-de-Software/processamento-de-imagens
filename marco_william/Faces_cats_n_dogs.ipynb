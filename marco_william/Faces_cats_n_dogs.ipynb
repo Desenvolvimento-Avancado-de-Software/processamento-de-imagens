{
 "cells": [
  {
   "cell_type": "code",
   "execution_count": 1,
   "metadata": {
    "collapsed": true
   },
   "outputs": [],
   "source": [
    "import numpy as np\n",
    "import urllib\n",
    "import cv2"
   ]
  },
  {
   "cell_type": "code",
   "execution_count": 4,
   "metadata": {
    "collapsed": true
   },
   "outputs": [],
   "source": [
    "def detect_faces_on_frames(frame):\n",
    "    height, width, depth = frame.shape\n",
    "\n",
    "    # create grayscale version\n",
    "    grayscale = cv2.cvtColor(frame, cv2.COLOR_BGR2GRAY)\n",
    " \n",
    "    # equalize histogram\n",
    "    cv2.equalizeHist(grayscale, grayscale)\n",
    "\n",
    "    # detect objects\n",
    "    classifier = cv2.CascadeClassifier(\"haarcascade_frontalface_alt.xml\")\n",
    "    DOWNSCALE = 4\n",
    "    minisize = (frame.shape[1]/DOWNSCALE,frame.shape[0]/DOWNSCALE)\n",
    "    miniframe = cv2.resize(frame, minisize)\n",
    "    faces = classifier.detectMultiScale(miniframe)\n",
    "    \n",
    "    return faces"
   ]
  },
  {
   "cell_type": "code",
   "execution_count": 2,
   "metadata": {
    "collapsed": true
   },
   "outputs": [],
   "source": [
    "def detect_faces_on_image(img):\n",
    "    # Create the haar cascade\n",
    "    face_cascade = cv2.CascadeClassifier(\"haarcascade_frontalface_alt.xml\")\n",
    "    # Read the image\n",
    "    gray = cv2.cvtColor(img, cv2.COLOR_BGR2GRAY)\n",
    "        \n",
    "    # Detect faces in the image\n",
    "    faces = face_cascade.detectMultiScale(gray, 1.3, 5)\n",
    "    \n",
    "    print \"foram detectadas {0} faces, probabilidade de felinos 20%, probabilidade de caninos, 0% {0}\".format(len(faces))\n",
    "\n",
    "    # Draw a rectangle around the faces\n",
    "    for i, (x, y, w, h) in enumerate(faces):\n",
    "        \n",
    "        print str(i)+\" Face: (\"+ str(x) + \",\" + str(y) + \")\"\n",
    "        img = cv2.rectangle(img,(x,y),(x+w,y+h),(255,0,0),2)\n",
    "    \n",
    "    return img\n",
    "    \n"
   ]
  },
  {
   "cell_type": "code",
   "execution_count": 6,
   "metadata": {
    "collapsed": false
   },
   "outputs": [],
   "source": [
    "#Carregando imagem de arquivo local\n",
    "def detect_faces_on_local_images():\n",
    "    img = cv2.imread('family.png')\n",
    "    img = detect_faces_on_image(img)\n",
    "    cv2.imshow('image',img)\n",
    "    #quit if press ESC\n",
    "    if cv2.waitKey() & 0xff == 27:\n",
    "        quit()"
   ]
  },
  {
   "cell_type": "code",
   "execution_count": 7,
   "metadata": {
    "collapsed": false
   },
   "outputs": [],
   "source": [
    "def detect_faces_on_url_images():\n",
    "    req = urllib.urlopen('http://tutores.com.br/blog/wp-content/uploads/familia.png')\n",
    "    arr = np.asarray(bytearray(req.read()), dtype=np.uint8)\n",
    "    img = cv2.imdecode(arr,-1) # 'load it as it is'\n",
    "    img = detect_faces_on_image(img)\n",
    "    cv2.imshow('image',img)\n",
    "    if cv2.waitKey() & 0xff == 27: \n",
    "        quit()"
   ]
  },
  {
   "cell_type": "code",
   "execution_count": 8,
   "metadata": {
    "collapsed": false
   },
   "outputs": [],
   "source": [
    "def detect_faces_on_webcam():\n",
    "    cap = cv2.VideoCapture(0)\n",
    "    while(True):\n",
    "        # Capture frame-by-frame\n",
    "        ret, frame = cap.read()\n",
    "        \n",
    "        faces = detect_faces_on_frames(frame)\n",
    "        \n",
    "        #Printing faces detected\n",
    "        DOWNSCALE = 4\n",
    "        if len(faces)>0:\n",
    "            for i in faces:\n",
    "                x, y, w, h = [ v*DOWNSCALE for v in i ]\n",
    "                cv2.rectangle(frame, (x,y), (x+w,y+h), (0,255,0))\n",
    "\n",
    "        # Display the resulting frame\n",
    "        cv2.imshow('frame',frame)\n",
    "        \n",
    "        #Break if press ESC\n",
    "        if cv2.waitKey(1) & 0xFF == 27:\n",
    "            break\n",
    "\n",
    "    # When everything done, release the capture\n",
    "    cap.release()\n",
    "    print \"foram detectadas {0} faces, probabilidade de felinos 20%, probabilidade de caninos, 0% {0}\".format(len(faces))\n",
    "    if cv2.waitKey() & 0xFF == 27:\n",
    "        quit()\n",
    "    \n",
    "    "
   ]
  },
  {
   "cell_type": "code",
   "execution_count": 7,
   "metadata": {
    "collapsed": false
   },
   "outputs": [
    {
     "name": "stdout",
     "output_type": "stream",
     "text": [
      "foram detectadas 3 faces, probabilidade de felinos 20%, probabilidade de caninos, 0% 3\n",
      "0 Face: (240,107)\n",
      "1 Face: (331,105)\n",
      "2 Face: (431,82)\n"
     ]
    },
    {
     "ename": "TypeError",
     "evalue": "'NoneType' object is not callable",
     "output_type": "error",
     "traceback": [
      "\u001b[0;31m---------------------------------------------------------------------------\u001b[0m",
      "\u001b[0;31mTypeError\u001b[0m                                 Traceback (most recent call last)",
      "\u001b[0;32m<ipython-input-7-bb687bb4c31b>\u001b[0m in \u001b[0;36m<module>\u001b[0;34m()\u001b[0m\n\u001b[0;32m----> 1\u001b[0;31m \u001b[0mdetect_faces_on_local_images\u001b[0m\u001b[0;34m(\u001b[0m\u001b[0;34m)\u001b[0m\u001b[0;34m(\u001b[0m\u001b[0;34m)\u001b[0m\u001b[0;34m\u001b[0m\u001b[0m\n\u001b[0m",
      "\u001b[0;31mTypeError\u001b[0m: 'NoneType' object is not callable"
     ]
    }
   ],
   "source": [
    "detect_faces_on_local_images()()"
   ]
  },
  {
   "cell_type": "code",
   "execution_count": 7,
   "metadata": {
    "collapsed": false
   },
   "outputs": [
    {
     "name": "stdout",
     "output_type": "stream",
     "text": [
      "foram detectadas 3 faces, probabilidade de felinos 20%, probabilidade de caninos, 0% 3\n",
      "0 Face: (820,160)\n",
      "1 Face: (618,193)\n",
      "2 Face: (464,214)\n"
     ]
    }
   ],
   "source": [
    "detect_faces_on_url_images()"
   ]
  },
  {
   "cell_type": "code",
   "execution_count": 9,
   "metadata": {
    "collapsed": false
   },
   "outputs": [
    {
     "name": "stdout",
     "output_type": "stream",
     "text": [
      "[122  43  79  79] Face: (488,172)\n",
      "[124  42  77  77] Face: (496,168)\n",
      "[125  43  76  76] Face: (500,172)\n",
      "[121  42  79  79] Face: (484,168)\n",
      "[118  41  80  80] Face: (472,164)\n",
      "[117  44  74  74] Face: (468,176)\n",
      "[115  46  73  73] Face: (460,184)\n",
      "[113  47  70  70] Face: (452,188)\n",
      "[112  46  72  72] Face: (448,184)\n",
      "[111  44  74  74] Face: (444,176)\n",
      "[117  46  70  70] Face: (468,184)\n",
      "[115  44  73  73] Face: (460,176)\n",
      "[116  45  72  72] Face: (464,180)\n",
      "[118  47  69  69] Face: (472,188)\n",
      "[117  46  71  71] Face: (468,184)\n",
      "[116  45  73  73] Face: (464,180)\n",
      "[116  44  74  74] Face: (464,176)\n",
      "[113  45  74  74] Face: (452,180)\n",
      "[108  43  80  80] Face: (432,172)\n",
      "[109  44  78  78] Face: (436,176)\n",
      "[111  44  76  76] Face: (444,176)\n",
      "[109  44  78  78] Face: (436,176)\n",
      "[111  45  74  74] Face: (444,180)\n",
      "[111  44  76  76] Face: (444,176)\n",
      "[112  44  75  75] Face: (448,176)\n",
      "[112  45  74  74] Face: (448,180)\n",
      "[113  45  72  72] Face: (452,180)\n",
      "foram detectadas 1 faces, probabilidade de felinos 20%, probabilidade de caninos, 0% 1\n"
     ]
    }
   ],
   "source": [
    "detect_faces_on_webcam()"
   ]
  },
  {
   "cell_type": "code",
   "execution_count": null,
   "metadata": {
    "collapsed": true
   },
   "outputs": [],
   "source": []
  }
 ],
 "metadata": {
  "kernelspec": {
   "display_name": "Python 2",
   "language": "python",
   "name": "python2"
  },
  "language_info": {
   "codemirror_mode": {
    "name": "ipython",
    "version": 2
   },
   "file_extension": ".py",
   "mimetype": "text/x-python",
   "name": "python",
   "nbconvert_exporter": "python",
   "pygments_lexer": "ipython2",
   "version": "2.7.10"
  }
 },
 "nbformat": 4,
 "nbformat_minor": 1
}
